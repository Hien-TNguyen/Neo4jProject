{
 "cells": [
  {
   "cell_type": "code",
   "execution_count": 106,
   "metadata": {},
   "outputs": [],
   "source": [
    "import random\n",
    "from faker import Faker\n",
    "import faker.providers\n",
    "from faker.providers import BaseProvider\n",
    "from py2neo import Graph, Node, Relationship\n",
    "import json\n",
    "\n",
    "import csv\n",
    "\n",
    "fake_data = Faker()\n",
    "graph = Graph(\"http://localhost:7474/db/data/\", user=\"neo4j\", password=\"Hanoi123\")\n",
    "\n",
    "class Custom(BaseProvider):\n",
    "    \n",
    "    #define the list of position in the company\n",
    "    def position(self):\n",
    "        position_list = ['developer', 'tester', 'project manager']\n",
    "        return random.choice(position_list)\n",
    "    \n",
    "    def stage(self):\n",
    "        stage_list = ['planning', 'in progress', 'finished']\n",
    "        return random.choice(stage_list)\n",
    "    \n",
    "    def result(self):\n",
    "        result_list = ['successful', 'failed']\n",
    "        return random.choice(result_list)\n",
    "    \n",
    "#add Custom to fake_data object\n",
    "fake_data.add_provider(Custom)\n",
    "\n",
    "#create Employees\n",
    "class Employees:\n",
    "    def __init__(self, name, position, email):\n",
    "        self.name = name\n",
    "        self.position = position\n",
    "        self.email = email\n",
    "    \n",
    "    #def __repr__(self):\n",
    "    #    return (':EMPLOYEE {{name: {}, position: {}, email: {}}})'.format(self.name, self.position, self.email))\n",
    "    "
   ]
  },
  {
   "cell_type": "code",
   "execution_count": 2,
   "metadata": {},
   "outputs": [
    {
     "name": "stdout",
     "output_type": "stream",
     "text": [
      "tester\n",
      "in progress\n",
      "failed\n"
     ]
    }
   ],
   "source": [
    "#add Custom to fake_data object\n",
    "fake_data.add_provider(Custom)\n",
    "print(fake_data.position())\n",
    "print(fake_data.stage())\n",
    "print(fake_data.result())"
   ]
  },
  {
   "cell_type": "code",
   "execution_count": 61,
   "metadata": {},
   "outputs": [],
   "source": [
    "#create Projects\n",
    "class Project:\n",
    "    def __init__(self, title, start_date, due_date, stage):\n",
    "        self.title = title\n",
    "        self.start_date = start_date\n",
    "        self.due_date = due_date\n",
    "        self.stage = stage\n",
    "        \n",
    "    def __repr__(self):\n",
    "        return (':PROJECT {{title: {}, start_date: {}, due_date: {}, stage: {}}})'.format(self.title, self.start_date, self.due_date, self.stage))"
   ]
  },
  {
   "cell_type": "code",
   "execution_count": 30,
   "metadata": {},
   "outputs": [],
   "source": [
    "#create Tasks\n",
    "class Task:\n",
    "    def __init__(self, name, start_date, due_date):\n",
    "        self.name = name\n",
    "        self.start_date = start_date\n",
    "        self.due_date = due_date\n",
    "        \n",
    "    def __repr__(self):\n",
    "        return ('{{name: {}, start_date: {}, due_date: {}}}'.format(self.name, self.start_date, self.due_date))"
   ]
  },
  {
   "cell_type": "code",
   "execution_count": 5,
   "metadata": {},
   "outputs": [],
   "source": [
    "#relationship Type\n",
    "relType = ['MANAGES', 'CREATES', 'BELONGS_TO', 'WORKS_ON']"
   ]
  },
  {
   "cell_type": "code",
   "execution_count": 6,
   "metadata": {},
   "outputs": [],
   "source": [
    "emp1 = Employees(fake_data.name(), fake_data.position(), fake_data.email())"
   ]
  },
  {
   "cell_type": "code",
   "execution_count": 7,
   "metadata": {},
   "outputs": [
    {
     "name": "stdout",
     "output_type": "stream",
     "text": [
      "<__main__.Employees object at 0x10e536748>\n"
     ]
    }
   ],
   "source": [
    "print(emp1)"
   ]
  },
  {
   "cell_type": "code",
   "execution_count": 8,
   "metadata": {},
   "outputs": [],
   "source": [
    "employees_list = []\n",
    "for i in range(10):\n",
    "    employees_list.append(Employees(fake_data.name(), fake_data.position(), fake_data.safe_email()))\n",
    "    \n",
    "#for i in employees_list:\n",
    "#    print('(emp', i, '\\n')"
   ]
  },
  {
   "cell_type": "code",
   "execution_count": 9,
   "metadata": {},
   "outputs": [],
   "source": [
    "#create a function to limit choice for job: developer, manager, tester"
   ]
  },
  {
   "cell_type": "code",
   "execution_count": 62,
   "metadata": {},
   "outputs": [
    {
     "name": "stdout",
     "output_type": "stream",
     "text": [
      "(proj :PROJECT {title: Concern stay organization front hot deep board., start_date: 1977-09-15, due_date: 1987-08-01, stage: planning}) \n",
      "\n",
      "(proj :PROJECT {title: True economic radio win treatment let material., start_date: 2003-05-09, due_date: 2014-08-23, stage: in progress}) \n",
      "\n",
      "(proj :PROJECT {title: New painting collection arm. Rise happy together herself go finally., start_date: 2004-12-10, due_date: 1988-04-29, stage: finished}) \n",
      "\n"
     ]
    }
   ],
   "source": [
    "project_list = []\n",
    "for i in range(3):\n",
    "    project_list.append(Project(fake_data.text(max_nb_chars=80), fake_data.date(), fake_data.date(), fake_data.stage()))\n",
    "    \n",
    "for i in project_list:\n",
    "    print('(proj', i, '\\n')"
   ]
  },
  {
   "cell_type": "code",
   "execution_count": 31,
   "metadata": {},
   "outputs": [
    {
     "name": "stdout",
     "output_type": "stream",
     "text": [
      "{name: Order pressure help., start_date: 1984-03-04, due_date: 1971-05-19} \n",
      "\n",
      "{name: Same model remain enough provide., start_date: 1984-05-21, due_date: 2011-07-02} \n",
      "\n",
      "{name: Power health popular opportunity actually., start_date: 1987-01-17, due_date: 2004-02-21} \n",
      "\n",
      "{name: Describe hour politics perhaps owner tax., start_date: 1972-02-19, due_date: 1988-06-24} \n",
      "\n",
      "{name: Among police owner building total., start_date: 2016-05-10, due_date: 2003-10-28} \n",
      "\n",
      "{name: Financial treatment push reveal., start_date: 2004-05-08, due_date: 1984-03-28} \n",
      "\n",
      "{name: Building especially rest south., start_date: 2017-09-24, due_date: 1975-04-14} \n",
      "\n",
      "{name: Always reality among several area., start_date: 1992-01-19, due_date: 1978-11-25} \n",
      "\n",
      "{name: Car town meeting history pull green., start_date: 2001-10-07, due_date: 2011-08-21} \n",
      "\n",
      "{name: Build born central., start_date: 2007-08-13, due_date: 2004-03-04} \n",
      "\n",
      "{name: Perhaps think various wall., start_date: 2015-03-07, due_date: 1984-02-12} \n",
      "\n",
      "{name: Life animal southern within., start_date: 1974-02-14, due_date: 2014-11-21} \n",
      "\n",
      "{name: Economic another art near current affect., start_date: 1985-07-23, due_date: 2016-08-19} \n",
      "\n",
      "{name: Factor would around least., start_date: 1985-12-21, due_date: 2016-04-30} \n",
      "\n",
      "{name: Region form letter form outside huge., start_date: 2001-11-08, due_date: 1983-07-14} \n",
      "\n"
     ]
    }
   ],
   "source": [
    "task_list = []\n",
    "for i in range(15):\n",
    "    task_list.append(Task(fake_data.text(max_nb_chars=50), fake_data.date(), fake_data.date()))\n",
    "    \n",
    "for i in task_list:\n",
    "    print(i, '\\n')"
   ]
  },
  {
   "cell_type": "code",
   "execution_count": 12,
   "metadata": {},
   "outputs": [],
   "source": [
    "#create employee list, project list and task list\n",
    "def create_nodes():\n",
    "    print('CREATE\\n (')\n",
    "    employees_list = []\n",
    "    for i in range(10):\n",
    "        employees_list.append(Employees(fake_data.name(), fake_data.position(), fake_data.safe_email()))\n",
    "        \n",
    "    project_list = []\n",
    "    for i in range(3):\n",
    "        project_list.append(Project(fake_data.text(max_nb_chars=80), fake_data.date(), fake_data.date(), fake_data.stage()))\n",
    "    \n",
    "    task_list = []\n",
    "    for i in range(15):\n",
    "        task_list.append(Task(fake_data.text(max_nb_chars=50), fake_data.date(), fake_data.date()))  \n",
    "        \n",
    "        \n",
    "        "
   ]
  },
  {
   "cell_type": "code",
   "execution_count": 38,
   "metadata": {},
   "outputs": [
    {
     "name": "stdout",
     "output_type": "stream",
     "text": [
      "(:Person {job: 'teacher', name: 'Alice'})\n"
     ]
    }
   ],
   "source": [
    "dice = {'name': 'Alice', 'job': 'teacher'}\n",
    "\n",
    "alice = Node('Person', **dice)\n",
    "\n",
    "print(alice)"
   ]
  },
  {
   "cell_type": "code",
   "execution_count": null,
   "metadata": {},
   "outputs": [],
   "source": []
  },
  {
   "cell_type": "code",
   "execution_count": 13,
   "metadata": {},
   "outputs": [],
   "source": [
    "#convert list to Node\n",
    "\n",
    "\n",
    "#random assign project to a project manager\n",
    "#for i in project_list:\n",
    "#    manager = random.choice(employees_list)\n",
    "#    m = Relationship(manager, 'MANAGES', i)\n",
    "#    print(i, '\\n')"
   ]
  },
  {
   "cell_type": "code",
   "execution_count": 14,
   "metadata": {},
   "outputs": [],
   "source": [
    "def create_database(number_of_emp):\n",
    "    names =[]\n",
    "    for _ in range(0, number_of_emp):\n",
    "        names.append(fake_data.name())\n",
    "    return names\n",
    "\n",
    "#write fake_data to csv file\n",
    "with open('fake_data.csv', 'w', newline = '') as csvfile:\n",
    "    csv_fake_data = csv.writer(csvfile)\n",
    "    for i in create_database(10):\n",
    "        csv_fake_data.writerow([i])"
   ]
  },
  {
   "cell_type": "code",
   "execution_count": 108,
   "metadata": {},
   "outputs": [
    {
     "name": "stdout",
     "output_type": "stream",
     "text": [
      "[{'name': 'Daughter so voice cultural. Consider also behind system choose news space.'}, {'name': 'Perform future door social car. Bed foot finish black learn.'}, {'name': 'Six own purpose question. Third speech school still wide situation of.'}, {'name': 'Behavior receive have number necessary respond.'}, {'name': 'Executive worker stock network interesting.'}]\n"
     ]
    }
   ],
   "source": [
    "test = []\n",
    "for i in range(5):\n",
    "    test.append({'name': fake_data.text(max_nb_chars=80)})\n",
    "print(test)"
   ]
  },
  {
   "cell_type": "code",
   "execution_count": 109,
   "metadata": {},
   "outputs": [
    {
     "name": "stdout",
     "output_type": "stream",
     "text": [
      "[{'title': 'Number table also ground. Federal can figure true. Skin admit better nation.'}, {'title': 'Fight begin which. Answer him economic statement prepare attention cold ahead.'}, {'title': 'Group letter pressure evening stay throw but.'}]\n"
     ]
    }
   ],
   "source": [
    "project_list = []\n",
    "for i in range(3):\n",
    "    project_list.append({'title': fake_data.text(max_nb_chars=80)})\n",
    "print(project_list)"
   ]
  },
  {
   "cell_type": "code",
   "execution_count": 110,
   "metadata": {},
   "outputs": [
    {
     "ename": "TypeError",
     "evalue": "'NoneType' object is not iterable",
     "output_type": "error",
     "traceback": [
      "\u001b[0;31m---------------------------------------------------------------------------\u001b[0m",
      "\u001b[0;31mTypeError\u001b[0m                                 Traceback (most recent call last)",
      "\u001b[0;32m<ipython-input-110-e3a0f768e3cb>\u001b[0m in \u001b[0;36m<module>\u001b[0;34m()\u001b[0m\n\u001b[1;32m      4\u001b[0m     \u001b[0mprops\u001b[0m \u001b[0;34m=\u001b[0m \u001b[0;34m{\u001b[0m\u001b[0;34m}\u001b[0m\u001b[0;34m\u001b[0m\u001b[0m\n\u001b[1;32m      5\u001b[0m     \u001b[0mprop_key\u001b[0m \u001b[0;34m=\u001b[0m \u001b[0;34m'task'\u001b[0m \u001b[0;34m+\u001b[0m \u001b[0mstr\u001b[0m\u001b[0;34m(\u001b[0m\u001b[0mi\u001b[0m\u001b[0;34m)\u001b[0m\u001b[0;34m\u001b[0m\u001b[0m\n\u001b[0;32m----> 6\u001b[0;31m     \u001b[0mnode\u001b[0m\u001b[0;34m,\u001b[0m \u001b[0;34m=\u001b[0m \u001b[0mgraph\u001b[0m\u001b[0;34m.\u001b[0m\u001b[0mcreate\u001b[0m\u001b[0;34m(\u001b[0m\u001b[0mNode\u001b[0m\u001b[0;34m(\u001b[0m\u001b[0;34m'TASK'\u001b[0m\u001b[0;34m,\u001b[0m \u001b[0;34m**\u001b[0m\u001b[0mtask\u001b[0m\u001b[0;34m)\u001b[0m\u001b[0;34m)\u001b[0m\u001b[0;34m\u001b[0m\u001b[0m\n\u001b[0m\u001b[1;32m      7\u001b[0m     \u001b[0mtask_node\u001b[0m\u001b[0;34m.\u001b[0m\u001b[0mappend\u001b[0m\u001b[0;34m(\u001b[0m\u001b[0mnode\u001b[0m\u001b[0;34m)\u001b[0m\u001b[0;34m\u001b[0m\u001b[0m\n\u001b[1;32m      8\u001b[0m \u001b[0;34m\u001b[0m\u001b[0m\n",
      "\u001b[0;31mTypeError\u001b[0m: 'NoneType' object is not iterable"
     ]
    }
   ],
   "source": [
    "from py2neo import Node\n",
    "task_node = []\n",
    "for i, task in enumerate(test):\n",
    "    props = {}\n",
    "    prop_key = 'task' + str(i)  \n",
    "    node, = graph.create(Node('TASK', **task))\n",
    "    task_node.append(node)\n",
    "    \n",
    "print(task_node)\n",
    "\n",
    "proj_node = []\n",
    "for j, proj in enumerate(project_list):\n",
    "    props = {}\n",
    "    projstr = json.dumps(proj)\n",
    "    props[prop_key] = projstr\n",
    "    node = Node('PROJECT', **proj)\n",
    "    #graph.create(node)\n",
    "    proj_node.append(node)\n",
    "    #graph.create(node)\n",
    "\n",
    "print(proj_node)\n",
    "#graph.create(my_node)"
   ]
  },
  {
   "cell_type": "code",
   "execution_count": 96,
   "metadata": {},
   "outputs": [],
   "source": [
    "rel = Relationship(test[0], 'BELONGS_TO', proj_node[0])\n"
   ]
  },
  {
   "cell_type": "code",
   "execution_count": 97,
   "metadata": {},
   "outputs": [
    {
     "name": "stdout",
     "output_type": "stream",
     "text": [
      "(Seek war hotel us. Firm political read. Quickly approach carry effort put.)-[:BELONGS_TO {}]->()\n"
     ]
    }
   ],
   "source": [
    "print(rel)"
   ]
  },
  {
   "cell_type": "code",
   "execution_count": 98,
   "metadata": {},
   "outputs": [
    {
     "name": "stdout",
     "output_type": "stream",
     "text": [
      "(:PROJECT {title: 'Sport low attention respond yes technology throw feeling.'})\n"
     ]
    }
   ],
   "source": [
    "print(proj_node[0])"
   ]
  },
  {
   "cell_type": "code",
   "execution_count": null,
   "metadata": {},
   "outputs": [],
   "source": []
  },
  {
   "cell_type": "code",
   "execution_count": 115,
   "metadata": {},
   "outputs": [
    {
     "name": "stdout",
     "output_type": "stream",
     "text": [
      "[8, 3, 6]\n"
     ]
    }
   ],
   "source": [
    "from random import choices\n",
    "\n",
    "items = range(1, 10)\n",
    "new_items = choices(items, k = 3)\n",
    "\n",
    "print(new_items) "
   ]
  },
  {
   "cell_type": "code",
   "execution_count": null,
   "metadata": {},
   "outputs": [],
   "source": []
  },
  {
   "cell_type": "code",
   "execution_count": null,
   "metadata": {},
   "outputs": [],
   "source": []
  }
 ],
 "metadata": {
  "kernelspec": {
   "display_name": "Python 3",
   "language": "python",
   "name": "python3"
  },
  "language_info": {
   "codemirror_mode": {
    "name": "ipython",
    "version": 3
   },
   "file_extension": ".py",
   "mimetype": "text/x-python",
   "name": "python",
   "nbconvert_exporter": "python",
   "pygments_lexer": "ipython3",
   "version": "3.6.4"
  }
 },
 "nbformat": 4,
 "nbformat_minor": 2
}
