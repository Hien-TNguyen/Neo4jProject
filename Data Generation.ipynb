{
 "cells": [
  {
   "cell_type": "markdown",
   "metadata": {},
   "source": [
    "#Generate Database Using Faker Package\n"
   ]
  },
  {
   "cell_type": "code",
   "execution_count": 1,
   "metadata": {},
   "outputs": [],
   "source": [
    "#Password for Neo4j Server\n",
    "pwd = \"aaaaaa\""
   ]
  },
  {
   "cell_type": "code",
   "execution_count": 2,
   "metadata": {},
   "outputs": [],
   "source": [
    "# Specify the number of data generated\n",
    "BASE = 10\n",
    "N_PROJECTS = BASE\n",
    "N_EMPLOYEES = BASE * 10\n",
    "N_TASKS = BASE * 25\n"
   ]
  },
  {
   "cell_type": "code",
   "execution_count": 3,
   "metadata": {},
   "outputs": [],
   "source": [
    "# Connection to neo4j\n",
    "from py2neo import Graph, Node, Relationship\n",
    "graph = Graph(\"http://localhost:7474/db/data/\", user=\"neo4j\", password=pwd)\n",
    "\n",
    "#reset the database\n",
    "graph.delete_all()"
   ]
  },
  {
   "cell_type": "code",
   "execution_count": 4,
   "metadata": {},
   "outputs": [],
   "source": [
    "# Setup faker\n",
    "import random\n",
    "from faker import Faker\n",
    "import faker.providers\n",
    "from faker.providers import BaseProvider\n",
    "\n",
    "fake_data = Faker()\n",
    "\n",
    "class Custom(BaseProvider):\n",
    "    \n",
    "    #define the list of position in the company\n",
    "    def position(self):\n",
    "        position_list = ['developer', 'developer', 'developer', 'developer', 'developer', 'developer', \n",
    "                         'tester', 'tester', 'tester', 'project manager']\n",
    "        return random.choice(position_list)\n",
    "    \n",
    "    def stage(self):\n",
    "        stage_list = ['planning', 'in progress', 'in progress', 'finished']\n",
    "        return random.choice(stage_list)\n",
    "    \n",
    "    def result(self):\n",
    "        result_list = ['successful', 'successful', 'failed']\n",
    "        return random.choice(result_list)\n",
    "    \n",
    "#add Custom to fake_data object\n",
    "fake_data.add_provider(Custom)\n"
   ]
  },
  {
   "cell_type": "code",
   "execution_count": 5,
   "metadata": {},
   "outputs": [],
   "source": [
    "#Employees properties:  name, position, email address\n",
    "employee_no = 1\n",
    "employees = []\n",
    "managers = []\n",
    "\n",
    "def makeEmployee():\n",
    "    global employee_no\n",
    "    empid = \"Employee\" + str(employee_no)\n",
    "    employee_no = employee_no + 1\n",
    "    pos = fake_data.position()\n",
    "    emp = Node(\"EMPLOYEE\", id = empid, name=fake_data.name(), position=pos, email=fake_data.safe_email())\n",
    "    if(pos == 'project manager'):\n",
    "        managers.append(emp)\n",
    "    else:\n",
    "        employees.append(emp)\n",
    "    graph.create(emp)\n",
    "    return emp\n"
   ]
  },
  {
   "cell_type": "code",
   "execution_count": 6,
   "metadata": {},
   "outputs": [],
   "source": [
    "# Projects properties: title, start_date, due_date, stage, result\n",
    "project_no = 100\n",
    "projects = []\n",
    "\n",
    "def makeProject():\n",
    "    global project_no\n",
    "    projid = \"Project\" + str(project_no)\n",
    "    project_no = project_no + 1\n",
    "    state = fake_data.stage()\n",
    "    if state == 'finished':\n",
    "        projresult = fake_data.result()\n",
    "    else:\n",
    "        projresult = \"in progress\"\n",
    "    proj = Node(\"PROJECT\", id = projid, title=fake_data.text(max_nb_chars=80), start_date=fake_data.date(), due_date=fake_data.date(), stage=state, result = projresult)\n",
    "    projects.append(proj)\n",
    "    graph.create(proj)\n",
    "    return proj"
   ]
  },
  {
   "cell_type": "code",
   "execution_count": 7,
   "metadata": {},
   "outputs": [],
   "source": [
    "#Tasks properties: name, start_date, due_date\n",
    "task_no = 1000\n",
    "tasks = []\n",
    "\n",
    "def makeTask():\n",
    "    global task_no\n",
    "    taskid = \"Task\" + str(task_no)\n",
    "    task_no = task_no + 1\n",
    "    task = Node(\"TASK\", id = taskid, name=fake_data.text(max_nb_chars=50), start_date=fake_data.date(), due_date=fake_data.date())\n",
    "    tasks.append(task)\n",
    "    graph.create(task)\n",
    "    return task\n"
   ]
  },
  {
   "cell_type": "code",
   "execution_count": 8,
   "metadata": {},
   "outputs": [
    {
     "name": "stdout",
     "output_type": "stream",
     "text": [
      "Generated 17 manager nodes, 83 employee nodes, 10 project nodes\n"
     ]
    }
   ],
   "source": [
    "# Make the basic nodes for Employees and Projects\n",
    "# Task will be created along the creation of relationship\n",
    "\n",
    "for i in range(N_EMPLOYEES):\n",
    "    makeEmployee()\n",
    "\n",
    "for i in range(N_PROJECTS):\n",
    "    makeProject()\n",
    "\n",
    "print (\"Generated {} manager nodes, {} employee nodes, {} project nodes\".format(len(managers), len(employees), len(projects)))"
   ]
  },
  {
   "cell_type": "code",
   "execution_count": 9,
   "metadata": {},
   "outputs": [],
   "source": [
    "# create the relationships\n",
    "rels = []\n",
    "\n",
    "from random import choices\n",
    "# Add relationships.\n",
    "# Build around projects.\n",
    "for proj in projects:\n",
    "    # first select a manager.\n",
    "    manager = random.choice(managers)\n",
    "    rel = Relationship(manager, 'MANAGES', proj)\n",
    "    rels.append(rel)\n",
    "    \n",
    "    # how many employees?\n",
    "    count = random.randint(5, 15)\n",
    "    # get them\n",
    "    indexes = random.sample(range(0, len(employees) - 1), count)\n",
    "    peoples = []\n",
    "    for index in indexes:\n",
    "        peoples.append(employees[index])\n",
    "        \n",
    "    # how many tasks?\n",
    "    count = random.randint(5, 25)\n",
    "    # assign each task\n",
    "    for i in range(count):\n",
    "        task = makeTask()\n",
    "        rel = Relationship(manager, \"CREATES\", task)\n",
    "        rels.append(rel)\n",
    "        rel = Relationship(task, \"BELONGS_TO\", proj)\n",
    "        rels.append(rel)\n",
    "        \n",
    "        worker_count = random.randint(1, 5)\n",
    "        for j in range(worker_count):\n",
    "            who = random.choice(peoples)\n",
    "            rel = Relationship(who, \"WORKS_ON\", task)\n",
    "            rels.append(rel)\n"
   ]
  },
  {
   "cell_type": "code",
   "execution_count": 10,
   "metadata": {},
   "outputs": [
    {
     "name": "stdout",
     "output_type": "stream",
     "text": [
      "Successful create relationship to the Graph!\n"
     ]
    }
   ],
   "source": [
    "#Create Relationship into Graph\n",
    "for rel in rels:\n",
    "    graph.create(rel)\n",
    "\n",
    "print(\"Successful create relationship to the Graph!\")"
   ]
  },
  {
   "cell_type": "code",
   "execution_count": 11,
   "metadata": {},
   "outputs": [
    {
     "name": "stdout",
     "output_type": "stream",
     "text": [
      "(:EMPLOYEE {email: 'lsnyder@example.org', id: 'Employee1', name: 'Bryce Hernandez', position: 'developer'}) (:PROJECT {due_date: '1975-08-07', id: 'Project100', result: 'in progress', stage: 'in progress', start_date: '2014-04-04', title: 'Rock onto building early card carry surface.'}) (:TASK {due_date: '1996-10-15', id: 'Task1000', name: 'Federal hotel score add rather.', start_date: '2004-08-25'})\n"
     ]
    }
   ],
   "source": [
    "#test that something happened\n",
    "print(employees[0], projects[0], tasks[0])"
   ]
  }
 ],
 "metadata": {
  "kernelspec": {
   "display_name": "Python 3",
   "language": "python",
   "name": "python3"
  },
  "language_info": {
   "codemirror_mode": {
    "name": "ipython",
    "version": 3
   },
   "file_extension": ".py",
   "mimetype": "text/x-python",
   "name": "python",
   "nbconvert_exporter": "python",
   "pygments_lexer": "ipython3",
   "version": "3.6.4"
  }
 },
 "nbformat": 4,
 "nbformat_minor": 2
}
